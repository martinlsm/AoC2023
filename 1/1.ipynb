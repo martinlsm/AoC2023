{
 "cells": [
  {
   "cell_type": "code",
   "execution_count": 1,
   "metadata": {},
   "outputs": [],
   "source": [
    "# Import stuff and get input\n",
    "import re\n",
    "\n",
    "with open('input', 'r') as f:\n",
    "    inp = f.readlines()"
   ]
  },
  {
   "cell_type": "code",
   "execution_count": 13,
   "metadata": {},
   "outputs": [],
   "source": [
    "# Setup part 1\n",
    "def get_num(line):\n",
    "    fst_num_idx = re.search(r'[a-zA-Z]*\\d', line).end() - 1\n",
    "    fst_num = line[fst_num_idx]\n",
    "\n",
    "    last_num_idx = re.search(r'\\d[a-zA-Z]*$', line).start()\n",
    "    last_num = line[last_num_idx]\n",
    "\n",
    "    return int(fst_num + last_num)\n",
    "\n"
   ]
  },
  {
   "cell_type": "code",
   "execution_count": 7,
   "metadata": {},
   "outputs": [],
   "source": [
    "# Setup part 2\n",
    "def parse(s):\n",
    "    if s == 'one':\n",
    "        return '1'\n",
    "    if s == 'two':\n",
    "        return '2'\n",
    "    if s == 'three':\n",
    "        return '3'\n",
    "    if s == 'four':\n",
    "        return '4'\n",
    "    if s == 'five':\n",
    "        return '5'\n",
    "    if s == 'six':\n",
    "        return '6'\n",
    "    if s == 'seven':\n",
    "        return '7'\n",
    "    if s == 'eight':\n",
    "        return '8'\n",
    "    if s == 'nine':\n",
    "        return '9'\n",
    "    else:\n",
    "        return s\n",
    "\n",
    "def get_num(line):\n",
    "    rgx = r'(?=(one|two|three|four|five|six|seven|eight|nine|\\d))'\n",
    "    matches = re.findall(rgx, line)\n",
    "    fst_num = matches[0]\n",
    "    snd_num = matches[-1]\n",
    "    return int(parse(fst_num) + parse(snd_num))\n",
    "\n"
   ]
  },
  {
   "cell_type": "code",
   "execution_count": 8,
   "metadata": {},
   "outputs": [
    {
     "name": "stdout",
     "output_type": "stream",
     "text": [
      "54649\n"
     ]
    }
   ],
   "source": [
    "# Solve problem\n",
    "res = 0\n",
    "\n",
    "for line in inp:\n",
    "    res += get_num(line)\n",
    "\n",
    "\n",
    "print(res)\n"
   ]
  }
 ],
 "metadata": {
  "kernelspec": {
   "display_name": "Python 3",
   "language": "python",
   "name": "python3"
  },
  "language_info": {
   "codemirror_mode": {
    "name": "ipython",
    "version": 3
   },
   "file_extension": ".py",
   "mimetype": "text/x-python",
   "name": "python",
   "nbconvert_exporter": "python",
   "pygments_lexer": "ipython3",
   "version": "3.9.2"
  }
 },
 "nbformat": 4,
 "nbformat_minor": 2
}
