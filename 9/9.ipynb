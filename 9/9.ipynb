{
 "cells": [
  {
   "cell_type": "code",
   "execution_count": null,
   "metadata": {},
   "outputs": [],
   "source": [
    "# Import stuff\n",
    "import re\n",
    "import numpy as np"
   ]
  },
  {
   "cell_type": "code",
   "execution_count": null,
   "metadata": {},
   "outputs": [],
   "source": [
    "# Get input\n",
    "with open('input', 'r') as f:\n",
    "    inp = f.readlines()"
   ]
  },
  {
   "cell_type": "code",
   "execution_count": null,
   "metadata": {},
   "outputs": [],
   "source": [
    "def get_diffs(values):\n",
    "    return [x[1] - x[0] for x in zip(values[:-1], values[1:])]\n",
    "\n",
    "\n",
    "def get_layers(values):\n",
    "    layers = {}\n",
    "    layers[0] = values\n",
    "\n",
    "    layer_idx = 1\n",
    "    while True:\n",
    "        diffs = get_diffs(values)\n",
    "        layers[layer_idx] = diffs\n",
    "        if np.all([x == 0 for x in diffs]):\n",
    "            break\n",
    "        layer_idx += 1\n",
    "        values = diffs\n",
    "\n",
    "    return layers\n",
    "    "
   ]
  },
  {
   "cell_type": "code",
   "execution_count": null,
   "metadata": {},
   "outputs": [],
   "source": [
    "# Solve 1\n",
    "def get_diffs(values):\n",
    "    return [x[1] - x[0] for x in zip(values[:-1], values[1:])]\n",
    "\n",
    "res = 0\n",
    "for line in inp:\n",
    "    values = [int(x) for x in re.findall(r'-?\\d+', line)]\n",
    "    layers = get_layers(values)\n",
    "    \n",
    "    # Extrapolate\n",
    "    extrapolation = [0 for _ in range(len(layers))]\n",
    "    for layer_idx in range(len(layers) - 2, -1, -1):\n",
    "        extrapolation[layer_idx] = extrapolation[layer_idx + 1] + layers[layer_idx][-1]\n",
    "    res += extrapolation[0]\n",
    "\n",
    "print(res)\n",
    "        "
   ]
  },
  {
   "cell_type": "code",
   "execution_count": null,
   "metadata": {},
   "outputs": [],
   "source": [
    "\n",
    "# Solve 2\n",
    "def get_diffs(values):\n",
    "    return [x[1] - x[0] for x in zip(values[:-1], values[1:])]\n",
    "\n",
    "res = 0\n",
    "for line in inp:\n",
    "    values = [int(x) for x in re.findall(r'-?\\d+', line)]\n",
    "    layers = get_layers(values)\n",
    "    \n",
    "    # Extrapolate\n",
    "    extrapolation = [0 for _ in range(len(layers))]\n",
    "    for layer_idx in range(len(layers) - 2, -1, -1):\n",
    "        extrapolation[layer_idx] = - extrapolation[layer_idx + 1] + layers[layer_idx][0]\n",
    "    res += extrapolation[0]\n",
    "\n",
    "print(res)"
   ]
  }
 ],
 "metadata": {
  "kernelspec": {
   "display_name": "Python 3",
   "language": "python",
   "name": "python3"
  },
  "language_info": {
   "codemirror_mode": {
    "name": "ipython",
    "version": 3
   },
   "file_extension": ".py",
   "mimetype": "text/x-python",
   "name": "python",
   "nbconvert_exporter": "python",
   "pygments_lexer": "ipython3",
   "version": "3.8.10"
  }
 },
 "nbformat": 4,
 "nbformat_minor": 2
}
