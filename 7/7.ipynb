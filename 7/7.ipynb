{
 "cells": [
  {
   "cell_type": "code",
   "execution_count": null,
   "metadata": {},
   "outputs": [],
   "source": [
    "# Import stuff\n",
    "import numpy as np"
   ]
  },
  {
   "cell_type": "code",
   "execution_count": null,
   "metadata": {},
   "outputs": [],
   "source": [
    "# Get input\n",
    "with open('input', 'r') as f:\n",
    "    inp = f.readlines()\n",
    "inp = [line.strip() for line in inp]\n",
    "inp = [x.split() for x in inp]"
   ]
  },
  {
   "cell_type": "code",
   "execution_count": null,
   "metadata": {},
   "outputs": [],
   "source": [
    "def replace_jokers(hand):\n",
    "    strengths = 'AKQT98765432'\n",
    "    freq = [hand.count(x) for x in strengths]\n",
    "    most_frequent = strengths[np.argmax(freq)]\n",
    "    return hand.replace('J', most_frequent)\n",
    "\n",
    "\n",
    "def score(hand, use_jokers):\n",
    "    if use_jokers:\n",
    "        strengths = 'AKQT98765432J'\n",
    "        hand_jok = replace_jokers(hand) \n",
    "    else:\n",
    "        strengths = 'AKQJT98765432'\n",
    "        hand_jok = hand\n",
    "\n",
    "    freq = [hand_jok.count(x) for x in strengths]\n",
    "    freq.sort(reverse=True)\n",
    "\n",
    "    weight = len(strengths) ** (len(hand) + 2)\n",
    "    if freq[:1] == [5]:\n",
    "        # Five of a kind\n",
    "        score = 6 * weight\n",
    "    elif freq[:1] == [4]:\n",
    "        # Four of a kind\n",
    "        score = 5 * weight\n",
    "    elif freq[:2] == [3, 2]:\n",
    "        # Full house\n",
    "        score = 4 * weight\n",
    "    elif freq[:1] == [3]:\n",
    "        # Three of a kind\n",
    "        score = 3 * weight\n",
    "    elif freq[:2] == [2, 2]:\n",
    "        # Two pair\n",
    "        score = 2 * weight\n",
    "    elif freq[:1] == [2]:\n",
    "        # One pair\n",
    "        score = 1 * weight\n",
    "    else:\n",
    "        # All different\n",
    "        score = 0 * weight\n",
    "    \n",
    "    for i,c in enumerate(hand):\n",
    "        pos_weight = len(strengths)**(len(hand) - i)\n",
    "        pos_score = len(strengths) - strengths.index(c)\n",
    "        score += pos_weight * pos_score\n",
    "    \n",
    "    return score\n"
   ]
  },
  {
   "cell_type": "code",
   "execution_count": null,
   "metadata": {},
   "outputs": [],
   "source": [
    "# Solve 1\n",
    "ranked = sorted(inp, key=lambda e : score(e[0], False))\n",
    "print(sum(((i + 1) * int(e[1]) for i,e in enumerate(ranked))))\n",
    "    "
   ]
  },
  {
   "cell_type": "code",
   "execution_count": null,
   "metadata": {},
   "outputs": [],
   "source": [
    "# Solve 2\n",
    "ranked = sorted(inp, key=lambda e : score(e[0], True))\n",
    "print(sum(((i + 1) * int(e[1]) for i,e in enumerate(ranked))))"
   ]
  }
 ],
 "metadata": {
  "kernelspec": {
   "display_name": "Python 3",
   "language": "python",
   "name": "python3"
  },
  "language_info": {
   "codemirror_mode": {
    "name": "ipython",
    "version": 3
   },
   "file_extension": ".py",
   "mimetype": "text/x-python",
   "name": "python",
   "nbconvert_exporter": "python",
   "pygments_lexer": "ipython3",
   "version": "3.8.10"
  }
 },
 "nbformat": 4,
 "nbformat_minor": 2
}
