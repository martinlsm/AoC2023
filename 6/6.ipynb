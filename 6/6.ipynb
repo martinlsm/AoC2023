{
 "cells": [
  {
   "cell_type": "code",
   "execution_count": null,
   "metadata": {},
   "outputs": [],
   "source": [
    "# Solve 1\n",
    "\n",
    "# Get input\n",
    "times = [51, 92, 68, 90]\n",
    "records = [222, 2031, 1126, 1225]\n",
    "\n",
    "def dist(hold, time):\n",
    "    return (time - hold) * hold\n",
    "\n",
    "res = 1\n",
    "for time,record in zip(times, records):\n",
    "    num_solutions = 0\n",
    "    for hold in range(time + 1):\n",
    "        d = dist(hold, time)\n",
    "        if d > record:\n",
    "            num_solutions += 1\n",
    "    res *= num_solutions \n",
    "\n",
    "print(res)"
   ]
  },
  {
   "cell_type": "code",
   "execution_count": null,
   "metadata": {},
   "outputs": [],
   "source": [
    "# Solve 2\n",
    "\n",
    "# Import stuff\n",
    "from sympy.solvers import solve\n",
    "from sympy import Symbol\n",
    "from math import ceil, floor\n",
    "\n",
    "# Get input\n",
    "time = 51926890\n",
    "record = 222203111261225\n",
    "\n",
    "h = Symbol('h')\n",
    "solution = solve((time - h) * h - record, h)\n",
    "lower = ceil(solution[0].evalf())\n",
    "upper = ceil(solution[1].evalf())\n",
    "res = upper - lower\n",
    "\n",
    "print(res)"
   ]
  }
 ],
 "metadata": {
  "kernelspec": {
   "display_name": "Python 3",
   "language": "python",
   "name": "python3"
  },
  "language_info": {
   "codemirror_mode": {
    "name": "ipython",
    "version": 3
   },
   "file_extension": ".py",
   "mimetype": "text/x-python",
   "name": "python",
   "nbconvert_exporter": "python",
   "pygments_lexer": "ipython3",
   "version": "3.8.10"
  }
 },
 "nbformat": 4,
 "nbformat_minor": 2
}
