{
 "cells": [
  {
   "cell_type": "code",
   "execution_count": 70,
   "metadata": {},
   "outputs": [],
   "source": [
    "# Import stuff and get input\n",
    "import re\n",
    "import numpy as np\n",
    "\n",
    "with open('input', 'r') as f:\n",
    "    inp = f.readlines()"
   ]
  },
  {
   "cell_type": "code",
   "execution_count": null,
   "metadata": {},
   "outputs": [],
   "source": [
    "# Solve part 1\n",
    "res = 0\n",
    "\n",
    "for line in inp:\n",
    "    game_mat = re.search(r'Game \\d+', line)\n",
    "    game_num = int(line[5:game_mat.end()])\n",
    "\n",
    "    cube_sets = re.findall(r'\\d+ (?:red|green|blue)', line)\n",
    "    \n",
    "    success = True\n",
    "    for cubes in cube_sets:\n",
    "        num_cubes, color = cubes.split()\n",
    "        num_cubes = int(num_cubes)\n",
    "\n",
    "        if color == 'red':\n",
    "            limit = 12\n",
    "        elif color == 'green':\n",
    "            limit = 13\n",
    "        elif color == 'blue':\n",
    "            limit = 14\n",
    "        else:\n",
    "            raise ValueError('no color')\n",
    "        \n",
    "        if num_cubes > limit:\n",
    "            success = False\n",
    "            break\n",
    "    \n",
    "    if success:\n",
    "        res += game_num\n",
    "    \n",
    "        print(game_num)\n",
    "\n",
    "print(res)"
   ]
  },
  {
   "cell_type": "code",
   "execution_count": null,
   "metadata": {},
   "outputs": [],
   "source": [
    "# Solve part 2\n",
    "res = 0\n",
    "\n",
    "for line in inp:\n",
    "    game_mat = re.search(r'Game \\d+', line)\n",
    "    game_num = int(line[5:game_mat.end()])\n",
    "\n",
    "    cube_sets = re.findall(r'\\d+ (?:red|green|blue)', line)\n",
    "\n",
    "    max_num_cubes = {'red': 0, 'green': 0, 'blue': 0}\n",
    "    \n",
    "    for cubes in cube_sets:\n",
    "        num_cubes, color = cubes.split()\n",
    "        num_cubes = int(num_cubes)\n",
    "        max_num_cubes[color] = max(max_num_cubes[color], num_cubes)\n",
    "    \n",
    "    power = np.prod(list(max_num_cubes.values()))\n",
    "    res += power\n",
    "\n",
    "print(res)"
   ]
  }
 ],
 "metadata": {
  "kernelspec": {
   "display_name": "Python 3",
   "language": "python",
   "name": "python3"
  },
  "language_info": {
   "codemirror_mode": {
    "name": "ipython",
    "version": 3
   },
   "file_extension": ".py",
   "mimetype": "text/x-python",
   "name": "python",
   "nbconvert_exporter": "python",
   "pygments_lexer": "ipython3",
   "version": "3.8.10"
  }
 },
 "nbformat": 4,
 "nbformat_minor": 2
}
