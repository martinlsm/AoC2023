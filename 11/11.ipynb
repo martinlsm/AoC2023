{
 "cells": [
  {
   "cell_type": "code",
   "execution_count": null,
   "metadata": {},
   "outputs": [],
   "source": [
    "\n",
    "# Import stuff\n",
    "import re\n",
    "import numpy as np"
   ]
  },
  {
   "cell_type": "code",
   "execution_count": null,
   "metadata": {},
   "outputs": [],
   "source": [
    "# Get input\n",
    "with open('input', 'r') as f:\n",
    "    inp = [line.strip() for line in f.readlines()]\n",
    "\n",
    "galaxies = np.array([[1 if x == '#' else 0 for x in line] for line in inp])\n"
   ]
  },
  {
   "cell_type": "code",
   "execution_count": null,
   "metadata": {},
   "outputs": [],
   "source": [
    "# Solve 1\n",
    "\n",
    "# Locate galaxies\n",
    "galaxy_pos = [(r,c) for r in range(galaxies.shape[0]) for c in range(galaxies.shape[1]) if galaxies[r,c]]\n",
    "\n",
    "# Find empty rows\n",
    "empty_cols = (1 - np.any(galaxies, axis=0)) + 1\n",
    "empty_rows = (1 - np.any(galaxies, axis=1)) + 1\n",
    "\n",
    "col_dist_map = np.add.accumulate(empty_cols)\n",
    "row_dist_map = np.add.accumulate(empty_rows)\n",
    "\n",
    "res = 0\n",
    "\n",
    "for i,g1 in enumerate(galaxy_pos):\n",
    "    for g2 in galaxy_pos[i + 1:]:\n",
    "        col_dist = np.abs(col_dist_map[g2[1]] - col_dist_map[g1[1]])\n",
    "        row_dist = np.abs(row_dist_map[g2[0]] - row_dist_map[g1[0]])\n",
    "        dist = col_dist + row_dist\n",
    "        res += dist\n",
    "\n",
    "print(res)"
   ]
  },
  {
   "cell_type": "code",
   "execution_count": null,
   "metadata": {},
   "outputs": [],
   "source": [
    "# Solve 2\n",
    "\n",
    "# Locate galaxies\n",
    "galaxy_pos = [(r,c) for r in range(galaxies.shape[0]) for c in range(galaxies.shape[1]) if galaxies[r,c]]\n",
    "\n",
    "# Find empty rows\n",
    "empty_cols = (1 - np.any(galaxies, axis=0)) * (1000000 - 1) + 1\n",
    "empty_rows = (1 - np.any(galaxies, axis=1)) * (1000000 - 1) + 1\n",
    "\n",
    "col_dist_map = np.add.accumulate(empty_cols)\n",
    "row_dist_map = np.add.accumulate(empty_rows)\n",
    "\n",
    "res = 0\n",
    "\n",
    "for i,g1 in enumerate(galaxy_pos):\n",
    "    for g2 in galaxy_pos[i + 1:]:\n",
    "        col_dist = np.abs(col_dist_map[g2[1]] - col_dist_map[g1[1]])\n",
    "        row_dist = np.abs(row_dist_map[g2[0]] - row_dist_map[g1[0]])\n",
    "        dist = col_dist + row_dist\n",
    "        res += dist\n",
    "\n",
    "print(res)"
   ]
  }
 ],
 "metadata": {
  "kernelspec": {
   "display_name": "Python 3",
   "language": "python",
   "name": "python3"
  },
  "language_info": {
   "codemirror_mode": {
    "name": "ipython",
    "version": 3
   },
   "file_extension": ".py",
   "mimetype": "text/x-python",
   "name": "python",
   "nbconvert_exporter": "python",
   "pygments_lexer": "ipython3",
   "version": "3.9.2"
  }
 },
 "nbformat": 4,
 "nbformat_minor": 2
}
