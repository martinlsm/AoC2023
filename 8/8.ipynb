{
 "cells": [
  {
   "cell_type": "code",
   "execution_count": 28,
   "metadata": {},
   "outputs": [],
   "source": [
    "# Import stuff\n",
    "import re\n",
    "import numpy as np"
   ]
  },
  {
   "cell_type": "code",
   "execution_count": 29,
   "metadata": {},
   "outputs": [],
   "source": [
    "# Get input\n",
    "with open('input', 'r') as f:\n",
    "    inp = f.readlines()\n",
    "\n",
    "path = inp[0].strip()\n",
    "\n",
    "graph = {}\n",
    "for line in inp[2:]:\n",
    "    (start, left, right) = re.findall(r'[A-Z]{3}', line)\n",
    "    graph[start] = (left, right)"
   ]
  },
  {
   "cell_type": "code",
   "execution_count": 23,
   "metadata": {},
   "outputs": [
    {
     "name": "stdout",
     "output_type": "stream",
     "text": [
      "16697\n"
     ]
    }
   ],
   "source": [
    "# Solve 1\n",
    "pos = 'AAA'\n",
    "steps = 0\n",
    "\n",
    "while pos != 'ZZZ':\n",
    "    dr = path[steps % len(path)]\n",
    "    idx = 0 if dr == 'L' else 1\n",
    "    pos = graph[pos][idx]\n",
    "    steps += 1\n",
    "\n",
    "print(steps)"
   ]
  },
  {
   "cell_type": "code",
   "execution_count": 31,
   "metadata": {},
   "outputs": [
    {
     "ename": "UFuncTypeError",
     "evalue": "ufunc 'gcd' did not contain a loop with signature matching types (dtype('float64'), dtype('float64')) -> dtype('float64')",
     "output_type": "error",
     "traceback": [
      "\u001b[0;31m---------------------------------------------------------------------------\u001b[0m",
      "\u001b[0;31mUFuncTypeError\u001b[0m                            Traceback (most recent call last)",
      "\u001b[1;32m/home/martin/repos/AoC2023/8/8.ipynb Cell 4\u001b[0m line \u001b[0;36m1\n\u001b[1;32m     <a href='vscode-notebook-cell:/home/martin/repos/AoC2023/8/8.ipynb#W3sZmlsZQ%3D%3D?line=15'>16</a>\u001b[0m res \u001b[39m=\u001b[39m \u001b[39m1\u001b[39m\n\u001b[1;32m     <a href='vscode-notebook-cell:/home/martin/repos/AoC2023/8/8.ipynb#W3sZmlsZQ%3D%3D?line=16'>17</a>\u001b[0m \u001b[39mfor\u001b[39;00m loop \u001b[39min\u001b[39;00m loop_lens:\n\u001b[0;32m---> <a href='vscode-notebook-cell:/home/martin/repos/AoC2023/8/8.ipynb#W3sZmlsZQ%3D%3D?line=17'>18</a>\u001b[0m     res \u001b[39m=\u001b[39m res \u001b[39m*\u001b[39m loop \u001b[39m/\u001b[39m np\u001b[39m.\u001b[39;49mgcd(res, loop)\n\u001b[1;32m     <a href='vscode-notebook-cell:/home/martin/repos/AoC2023/8/8.ipynb#W3sZmlsZQ%3D%3D?line=19'>20</a>\u001b[0m \u001b[39mprint\u001b[39m(res)\n",
      "\u001b[0;31mUFuncTypeError\u001b[0m: ufunc 'gcd' did not contain a loop with signature matching types (dtype('float64'), dtype('float64')) -> dtype('float64')"
     ]
    }
   ],
   "source": [
    "# Solve 2\n",
    "def loop_len(pos, path):\n",
    "    steps = 0\n",
    "    while not pos.endswith('Z'):\n",
    "        dr = path[steps % len(path)]\n",
    "        idx = 0 if dr == 'L' else 1\n",
    "        pos = graph[pos][idx]\n",
    "        steps += 1\n",
    "    return steps\n",
    "\n",
    "loop_lens = []\n",
    "for start in graph.keys():\n",
    "    if start.endswith('A'):\n",
    "        loop_lens.append(loop_len(start, path))\n",
    "\n",
    "res = 1\n",
    "for loop in loop_lens:\n",
    "    res = res * loop // np.gcd(res, loop)\n",
    "\n",
    "print(res)\n"
   ]
  }
 ],
 "metadata": {
  "kernelspec": {
   "display_name": "Python 3",
   "language": "python",
   "name": "python3"
  },
  "language_info": {
   "codemirror_mode": {
    "name": "ipython",
    "version": 3
   },
   "file_extension": ".py",
   "mimetype": "text/x-python",
   "name": "python",
   "nbconvert_exporter": "python",
   "pygments_lexer": "ipython3",
   "version": "3.8.10"
  }
 },
 "nbformat": 4,
 "nbformat_minor": 2
}
